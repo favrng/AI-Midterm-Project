{
 "cells": [
  {
   "cell_type": "markdown",
   "metadata": {},
   "source": [
    "## AI Midterm Project\n",
    "Fiorella Averina Gunawan <br>\n",
    "19/443579/TK/48775 <br>\n",
    "<br>\n",
    "Decision Tree Algorithm (from Scratch) to Predict Whether A User Will Buy A Car or Not<br>\n",
    "Reference: https://github.com/SebastianMantey/Decision-Tree-from-Scratch/blob/master/notebooks/Video%2008%20-%20Categorical%20Features.ipynb, Python NumPy and Pandas documentation <br>\n",
    "With Modification (in this project, Gini Impurity Index will be used instead of Entropy) <br>\n",
    "Dataset is taken from Kaggle <br>\n",
    "Link: https://www.kaggle.com/datasets/gabrielsantello/cars-purchase-decision-dataset/code"
   ]
  },
  {
   "cell_type": "markdown",
   "metadata": {},
   "source": [
    "## Importing Libraries"
   ]
  },
  {
   "cell_type": "code",
   "execution_count": 9,
   "metadata": {},
   "outputs": [],
   "source": [
    "import numpy as np\n",
    "import pandas as pd\n",
    "import random\n",
    "from pprint import pprint"
   ]
  },
  {
   "cell_type": "markdown",
   "metadata": {},
   "source": [
    "## Importing Data and Data Preprocessing"
   ]
  },
  {
   "cell_type": "code",
   "execution_count": 10,
   "metadata": {},
   "outputs": [
    {
     "data": {
      "text/html": [
       "<div>\n",
       "<style scoped>\n",
       "    .dataframe tbody tr th:only-of-type {\n",
       "        vertical-align: middle;\n",
       "    }\n",
       "\n",
       "    .dataframe tbody tr th {\n",
       "        vertical-align: top;\n",
       "    }\n",
       "\n",
       "    .dataframe thead th {\n",
       "        text-align: right;\n",
       "    }\n",
       "</style>\n",
       "<table border=\"1\" class=\"dataframe\">\n",
       "  <thead>\n",
       "    <tr style=\"text-align: right;\">\n",
       "      <th></th>\n",
       "      <th>User ID</th>\n",
       "      <th>Gender</th>\n",
       "      <th>Age</th>\n",
       "      <th>AnnualSalary</th>\n",
       "      <th>Purchased</th>\n",
       "    </tr>\n",
       "  </thead>\n",
       "  <tbody>\n",
       "    <tr>\n",
       "      <th>0</th>\n",
       "      <td>385</td>\n",
       "      <td>Male</td>\n",
       "      <td>35</td>\n",
       "      <td>20000</td>\n",
       "      <td>0</td>\n",
       "    </tr>\n",
       "    <tr>\n",
       "      <th>1</th>\n",
       "      <td>681</td>\n",
       "      <td>Male</td>\n",
       "      <td>40</td>\n",
       "      <td>43500</td>\n",
       "      <td>0</td>\n",
       "    </tr>\n",
       "    <tr>\n",
       "      <th>2</th>\n",
       "      <td>353</td>\n",
       "      <td>Male</td>\n",
       "      <td>49</td>\n",
       "      <td>74000</td>\n",
       "      <td>0</td>\n",
       "    </tr>\n",
       "    <tr>\n",
       "      <th>3</th>\n",
       "      <td>895</td>\n",
       "      <td>Male</td>\n",
       "      <td>40</td>\n",
       "      <td>107500</td>\n",
       "      <td>1</td>\n",
       "    </tr>\n",
       "    <tr>\n",
       "      <th>4</th>\n",
       "      <td>661</td>\n",
       "      <td>Male</td>\n",
       "      <td>25</td>\n",
       "      <td>79000</td>\n",
       "      <td>0</td>\n",
       "    </tr>\n",
       "  </tbody>\n",
       "</table>\n",
       "</div>"
      ],
      "text/plain": [
       "   User ID Gender  Age  AnnualSalary  Purchased\n",
       "0      385   Male   35         20000          0\n",
       "1      681   Male   40         43500          0\n",
       "2      353   Male   49         74000          0\n",
       "3      895   Male   40        107500          1\n",
       "4      661   Male   25         79000          0"
      ]
     },
     "execution_count": 10,
     "metadata": {},
     "output_type": "execute_result"
    }
   ],
   "source": [
    "url = 'https://drive.google.com/file/d/1X2OCBiCBiwBBkflIr8FsFYafP2mtA9gA/view?usp=sharing' #Define the URL link\n",
    "file_id=url.split('/')[-2] #Extracting the file ID\n",
    "download_url='https://drive.google.com/uc?id=' + file_id #Creating the download URL\n",
    "df = pd.read_csv(download_url, sep=',') #Reading the CSV from the download URL, using ',' as the separator\n",
    "df.head() #Printing some values of the dataframe"
   ]
  },
  {
   "cell_type": "code",
   "execution_count": 11,
   "metadata": {},
   "outputs": [
    {
     "data": {
      "text/html": [
       "<div>\n",
       "<style scoped>\n",
       "    .dataframe tbody tr th:only-of-type {\n",
       "        vertical-align: middle;\n",
       "    }\n",
       "\n",
       "    .dataframe tbody tr th {\n",
       "        vertical-align: top;\n",
       "    }\n",
       "\n",
       "    .dataframe thead th {\n",
       "        text-align: right;\n",
       "    }\n",
       "</style>\n",
       "<table border=\"1\" class=\"dataframe\">\n",
       "  <thead>\n",
       "    <tr style=\"text-align: right;\">\n",
       "      <th></th>\n",
       "      <th>Gender</th>\n",
       "      <th>Age</th>\n",
       "      <th>AnnualSalary</th>\n",
       "      <th>label</th>\n",
       "    </tr>\n",
       "  </thead>\n",
       "  <tbody>\n",
       "    <tr>\n",
       "      <th>0</th>\n",
       "      <td>Male</td>\n",
       "      <td>35</td>\n",
       "      <td>20000</td>\n",
       "      <td>0</td>\n",
       "    </tr>\n",
       "    <tr>\n",
       "      <th>1</th>\n",
       "      <td>Male</td>\n",
       "      <td>40</td>\n",
       "      <td>43500</td>\n",
       "      <td>0</td>\n",
       "    </tr>\n",
       "    <tr>\n",
       "      <th>2</th>\n",
       "      <td>Male</td>\n",
       "      <td>49</td>\n",
       "      <td>74000</td>\n",
       "      <td>0</td>\n",
       "    </tr>\n",
       "    <tr>\n",
       "      <th>3</th>\n",
       "      <td>Male</td>\n",
       "      <td>40</td>\n",
       "      <td>107500</td>\n",
       "      <td>1</td>\n",
       "    </tr>\n",
       "    <tr>\n",
       "      <th>4</th>\n",
       "      <td>Male</td>\n",
       "      <td>25</td>\n",
       "      <td>79000</td>\n",
       "      <td>0</td>\n",
       "    </tr>\n",
       "  </tbody>\n",
       "</table>\n",
       "</div>"
      ],
      "text/plain": [
       "  Gender  Age  AnnualSalary  label\n",
       "0   Male   35         20000      0\n",
       "1   Male   40         43500      0\n",
       "2   Male   49         74000      0\n",
       "3   Male   40        107500      1\n",
       "4   Male   25         79000      0"
      ]
     },
     "execution_count": 11,
     "metadata": {},
     "output_type": "execute_result"
    }
   ],
   "source": [
    "df = df.drop(\"User ID\", axis=1) #Removing the \"User ID\" column\n",
    "#It is removed since it only functions as an identifier for every customer\n",
    "#We want to predict whether the customer would buy a car or not, by using these attributes only: gender, age, annual salary\n",
    "df = df.rename(columns={\"Purchased\": \"label\"}) #Renaming the last column into \"label\", so that it would be easily processed\n",
    "#(The functions are written using the \"label\" parameters)\n",
    "df.head() #Rechecking the data"
   ]
  },
  {
   "cell_type": "code",
   "execution_count": 12,
   "metadata": {},
   "outputs": [
    {
     "name": "stdout",
     "output_type": "stream",
     "text": [
      "<class 'pandas.core.frame.DataFrame'>\n",
      "RangeIndex: 1000 entries, 0 to 999\n",
      "Data columns (total 4 columns):\n",
      " #   Column        Non-Null Count  Dtype \n",
      "---  ------        --------------  ----- \n",
      " 0   Gender        1000 non-null   object\n",
      " 1   Age           1000 non-null   int64 \n",
      " 2   AnnualSalary  1000 non-null   int64 \n",
      " 3   label         1000 non-null   int64 \n",
      "dtypes: int64(3), object(1)\n",
      "memory usage: 31.4+ KB\n"
     ]
    }
   ],
   "source": [
    "df.info() #Checking the data info, to see whether there exists some NaN values in our dataset"
   ]
  },
  {
   "cell_type": "markdown",
   "metadata": {},
   "source": [
    "## Splitting Data into Training and Testing"
   ]
  },
  {
   "cell_type": "code",
   "execution_count": 13,
   "metadata": {},
   "outputs": [],
   "source": [
    "#Input: dataframe df, test_size -> mau berapa persen, mau berapa data\n",
    "def train_test_split (df, test_size, seed): #Test size must be integer\n",
    "    #If test size is a percentage (float), then test_size = the percentage times the dataframe\n",
    "    if isinstance(test_size, float): #Check whether the desired test size is a float\n",
    "        test_size = round(test_size * len(df)) #Calculating the test size if the test size is a float\n",
    "        #It is rounded, since test size must be integer\n",
    "\n",
    "    indices = df.index.tolist() #Mengubah indeks data menjadi list untuk di-sampling\n",
    "    test_indices = random.sample(population=indices, k=test_size) #Indeks data untuk dijadikan testing data\n",
    "\n",
    "    test_df = df.loc[test_indices] #Mengakses data dengan indeks test_indices\n",
    "    #Data tersebut menjadi testing dataframe\n",
    "    train_df = df.drop(test_indices) #Mengakses data yang indeksnya selain test_indices\n",
    "    #Data tersebut menjadi training dataframe\n",
    "    random.seed(seed) #Menentukan set random ke berapa, agar data random tidak berubah setiap perintah dijalankan\n",
    "    return train_df, test_df\n"
   ]
  },
  {
   "cell_type": "markdown",
   "metadata": {},
   "source": [
    "## Helper Functions"
   ]
  },
  {
   "cell_type": "code",
   "execution_count": 14,
   "metadata": {},
   "outputs": [],
   "source": [
    "train_df, test_df = train_test_split(df, test_size = 0.2, seed = 0)"
   ]
  },
  {
   "cell_type": "code",
   "execution_count": 15,
   "metadata": {},
   "outputs": [],
   "source": [
    "#Converting pandas dataframe \"df\" to numpy 2D array \"data\"\n",
    "data = train_df.values"
   ]
  },
  {
   "cell_type": "code",
   "execution_count": 16,
   "metadata": {},
   "outputs": [],
   "source": [
    "#Check data purity. Purity = 1 if there exists only one unique value in the label\n",
    "def check_purity(data):\n",
    "    label_column = data[:,-1] #Mengambil isi dari kolom terakhir (label)\n",
    "    unique_classes = np.unique(label_column) #Counting the unique values\n",
    "\n",
    "    if len(unique_classes) == 1:\n",
    "        return True\n",
    "    else:\n",
    "        return False"
   ]
  },
  {
   "cell_type": "code",
   "execution_count": 17,
   "metadata": {},
   "outputs": [],
   "source": [
    "#Classify data\n",
    "#Data will be classified to a unique class that has most counts\n",
    "def classify_data(data):\n",
    "    label_column = data[:,-1]\n",
    "    unique_classes, counts_unique_classes = np.unique (label_column, return_counts=True)\n",
    "\n",
    "    index = counts_unique_classes.argmax() #Returns the index of the unique class that has the most data\n",
    "    classification = unique_classes[index] #Classify it as a unique class with the index of \"index\"\n",
    "\n",
    "    return classification"
   ]
  },
  {
   "cell_type": "code",
   "execution_count": 18,
   "metadata": {},
   "outputs": [],
   "source": [
    "#Potential Splits Function (to get all the possibilities of data splitting)\n",
    "def get_potential_splits(data):\n",
    "    \n",
    "    potential_splits = {} #Defining potential_splits as a dictionary\n",
    "    _, n_columns = data.shape #Accessing the column dimension of data\n",
    "    for column_index in range(n_columns - 1): #Every column has its potential split, except the last column\n",
    "        #which is the \"label\" column\n",
    "        values = data[:, column_index] #Accesing the value of the data at a column\n",
    "        unique_values = np.unique(values) #Getting the unique values of the data at the respective column\n",
    "        \n",
    "        type_of_feature = FEATURE_TYPES[column_index] #Determining types of the feature\n",
    "        #Possibilities: continuous (e.g. age which is numerical), and categorical (e.g. gender which contains strings data type)\n",
    "\n",
    "        #For continuous features:\n",
    "        if type_of_feature == \"Continuous\":\n",
    "            potential_splits[column_index] = [] #Initiating an array that contains values that could be used for splitting the data\n",
    "            for index in range(len(unique_values)): #Looping along the number of unique values to find potential splits\n",
    "                if index != 0:\n",
    "                    current_value = unique_values[index] #Storing the current value in the index n of unique values array\n",
    "                    previous_value = unique_values[index - 1] #Storing the previous value in the index of n-1 of unique values array\n",
    "                    potential_split = (current_value + previous_value) / 2 #Calculating the potential split value\n",
    "\n",
    "                    potential_splits[column_index].append(potential_split) #Adding the potntial split value to the array\n",
    "        \n",
    "        #For categorical features with more than 1 unique value:\n",
    "        elif len(unique_values) > 1:\n",
    "            potential_splits[column_index] = unique_values #The splitting value is itself (e.g. Male or Female for gender attribute)\n",
    "    \n",
    "    return potential_splits"
   ]
  },
  {
   "cell_type": "code",
   "execution_count": 19,
   "metadata": {},
   "outputs": [],
   "source": [
    "#Splitting the Data\n",
    "def split_data(data, split_column, split_value):\n",
    "    split_column_values = data[:, split_column] #Getting the value that will be used as reference to split the data\n",
    "    type_of_feature = FEATURE_TYPES[split_column] #Getting its feature types\n",
    "    #Classify the data\n",
    "    if type_of_feature == \"Continuous\":\n",
    "        data_yes = data[split_column_values <= split_value]\n",
    "        data_no = data[split_column_values > split_value]\n",
    "\n",
    "    else: #For categorical data, check its equality\n",
    "        data_yes = data[split_column_values == split_value]\n",
    "        data_no = data[split_column_values != split_value]\n",
    "        \n",
    "    return data_yes, data_no"
   ]
  },
  {
   "cell_type": "code",
   "execution_count": 20,
   "metadata": {},
   "outputs": [],
   "source": [
    "# Calculate Gini Impurity\n",
    "def calculate_gini(data):\n",
    "    label_column = data[:,-1] #Access the \"label\" column\n",
    "    _, counts = np.unique(label_column, return_counts=True) #Accessing how many times the unique value appears\n",
    "\n",
    "    probabilities = counts/counts.sum() #Returning the array containing the probabilites of each unique value\n",
    "    gini = 1 - (sum(np.square(probabilities))) #Calculating gini impurity\n",
    "\n",
    "    return gini"
   ]
  },
  {
   "cell_type": "code",
   "execution_count": 21,
   "metadata": {},
   "outputs": [],
   "source": [
    "#Calculating total gini (weighted average)\n",
    "def calculate_total_gini (data_yes, data_no):\n",
    "    p_data_yes = len(data_yes)/len(data) #Probability of \"yes\" data\n",
    "    p_data_no = len(data_no)/len(data) #Probability of \"no\" data\n",
    "\n",
    "    #Weighted Average\n",
    "    total_gini = (p_data_yes*calculate_gini(data_yes) + p_data_no*calculate_gini(data_no))\n",
    "\n",
    "    return total_gini"
   ]
  },
  {
   "cell_type": "code",
   "execution_count": 22,
   "metadata": {},
   "outputs": [],
   "source": [
    "#Determining best split\n",
    "def determine_best_split(data, potential_splits):\n",
    "    overall_gini = 9999 #Very large, tidak mungkin mencapai nilai ini\n",
    "    for column_index in potential_splits: #Looping along each column for potential splits\n",
    "        for value in potential_splits[column_index]: #Looping along each value in every column for potential splits\n",
    "            data_yes, data_no = split_data(data, split_column=column_index, split_value=value) #Splitting the data\n",
    "            current_total_gini = calculate_total_gini(data_yes, data_no) #Calculating current split's total gini\n",
    "            \n",
    "            if current_total_gini <= overall_gini: #Comparing the total gini\n",
    "                overall_gini = current_total_gini #Substituing overall gini to current total gini\n",
    "                best_split_column = column_index #Best split column is the respective column index\n",
    "                best_split_value = value #Best split value is the respective value in column index\n",
    "\n",
    "    return best_split_column, best_split_value"
   ]
  },
  {
   "cell_type": "markdown",
   "metadata": {},
   "source": [
    "## Decision Tree Algorithm"
   ]
  },
  {
   "cell_type": "code",
   "execution_count": 23,
   "metadata": {},
   "outputs": [],
   "source": [
    "#We want to creat a sub tree which is a dictionary, that contains the yes answer and the no answer\n",
    "#sub_tree = {\"question\": [\"yes_answer\", \"no_answer\"]}"
   ]
  },
  {
   "cell_type": "code",
   "execution_count": 24,
   "metadata": {},
   "outputs": [],
   "source": [
    "def determine_type_of_feature(df): #Categorical or continuous?\n",
    "\n",
    "    feature_types = [] #Initializing an array to store the feature type\n",
    "    threshold = 5 #Sebagai limit yang menandakan feature termasuk categorical atau continuous. \n",
    "    #Data yang continuous tentunya memiliki sangat banyak unique value\n",
    "    #Threshold berfungsi sebagai batas unique value yang bisa dimiliki feature agar dikategorikan sebagai \"categorical\"\n",
    "    \n",
    "    for feature in df.columns: #Looping along each features in columns\n",
    "        if feature != \"label\": #If the feature is not the label,\n",
    "            unique_values = df[feature].unique() #Getting the array that contains unique values for each feature\n",
    "            example_value = unique_values[0] #Setting the example value as the first entry of unique_values array\n",
    "\n",
    "            #Check if the example value is categorical. Checking if its data type is string, or it has unique values less than the threshold\n",
    "            if (isinstance(example_value, str)) or (len(unique_values) <= threshold):\n",
    "                feature_types.append(\"Categorical\")\n",
    "            else: #Categorize the feature as a continuous one\n",
    "                feature_types.append(\"Continuous\")\n",
    "    return feature_types"
   ]
  },
  {
   "cell_type": "code",
   "execution_count": 25,
   "metadata": {},
   "outputs": [],
   "source": [
    "#Main algorithm\n",
    "def decision_tree_algorithm(df, i=0, min_samples=5, max_depth=3):\n",
    "    \n",
    "    if i == 0: #First loop:\n",
    "        global COLUMN_HEADERS, FEATURE_TYPES #Initialize global variables\n",
    "        COLUMN_HEADERS = df.columns #Defining the column headers variable\n",
    "        FEATURE_TYPES = determine_type_of_feature(df) #Defining the feature types\n",
    "        data = df.values #Taking the data in the form of NumPy 2D array (during the first execution of the loop)\n",
    "    else:\n",
    "        data = df           \n",
    "    \n",
    "    \n",
    "    #Non-recursive\n",
    "    #Happens when the data is pure, or the number of the data points is less than the minimum samples,\n",
    "    #or the counter \"i\" has reached is maximum value (max_depth)\n",
    "    #What happens after this: classify the data\n",
    "    if (check_purity(data)) or (len(data) < min_samples) or (i == max_depth):\n",
    "        classification = classify_data(data) #Classifying the data\n",
    "        \n",
    "        return classification\n",
    "\n",
    "    \n",
    "    #Recursive, happens when the above conditions are not meet\n",
    "    else:    \n",
    "        i = i + 1 #Incrementing the counter\n",
    "\n",
    "        potential_splits = get_potential_splits(data) #Getting potential splits\n",
    "        split_column, split_value = determine_best_split(data, potential_splits) #Getting split column and split value\n",
    "        data_yes, data_no = split_data(data, split_column, split_value) #Splitting the data\n",
    "        \n",
    "        #Checking in case there is an empty data\n",
    "        if len(data_yes) == 0 or len(data_no) == 0:\n",
    "            classification = classify_data(data) #Classify\n",
    "            return classification\n",
    "        \n",
    "        feature_name = COLUMN_HEADERS[split_column] #Getting feature name\n",
    "        type_of_feature = FEATURE_TYPES[split_column] #Getting feature type\n",
    "\n",
    "        #For continuous data\n",
    "        #Question: \"Is ... (feature name) <= ... (split value)?\"\n",
    "        if type_of_feature == \"Continuous\":\n",
    "            question = \"{} <= {}\".format(feature_name, split_value)\n",
    "            \n",
    "        #For categorical data\n",
    "        #Question: \"Is ... (feature name) = ... (split value)?\"\n",
    "        else:\n",
    "            question = \"{} = {}\".format(feature_name, split_value)\n",
    "        \n",
    "        #Initializing subtree\n",
    "        #The tree will consists of some subtrees\n",
    "        sub_tree = {question: []} #Storing the questions and their answers in the sub_tree dictionary\n",
    "        \n",
    "        #Answers\n",
    "        yes_answer = decision_tree_algorithm(data_yes, i, min_samples, max_depth) #Run the algorithm for the subtree for yes answers\n",
    "        no_answer = decision_tree_algorithm(data_no, i, min_samples, max_depth) #Run the algorithm for the subtree for no answers\n",
    "        \n",
    "        #Same answer case (e.g. the classification of the \"yes\" and \"no\" sides are the same):\n",
    "        if yes_answer == no_answer:\n",
    "            sub_tree = yes_answer #Choose either value (it is the same)\n",
    "\n",
    "        #Different answer case:\n",
    "        else:\n",
    "            sub_tree[question].append(yes_answer) #Generating the subtree for yes answer\n",
    "            sub_tree[question].append(no_answer) #Generating the subtree for no answer\n",
    "        \n",
    "        return sub_tree"
   ]
  },
  {
   "cell_type": "markdown",
   "metadata": {},
   "source": [
    "## Classification"
   ]
  },
  {
   "cell_type": "code",
   "execution_count": 26,
   "metadata": {},
   "outputs": [],
   "source": [
    "def classify(example, tree):\n",
    "\n",
    "    #Getting the question\n",
    "    question = list(tree.keys())[0] #Converting the keys to a list, accessing the first element\n",
    "    feature_name, comparison_operator, value = question.split(\" \") #Splitting the question, into 3 parts\n",
    "    #Which are feature names, comparison operators, and values\n",
    "\n",
    "    #For continuous features\n",
    "    if comparison_operator == \"<=\":\n",
    "        if example[feature_name] <= float(value): #Question\n",
    "            answer = tree[question][0] #Pick the 'yes answer' (the first element in the value list)\n",
    "        else:\n",
    "            answer = tree[question][1] #Pick the 'no answer' (the second element in the value list)\n",
    "    \n",
    "    #For categorical features\n",
    "    else:\n",
    "        if str(example[feature_name]) == value: #Question\n",
    "            answer = tree[question][0] #Pick the 'yes answer'\n",
    "        else:\n",
    "            answer = tree[question][1] #Pick the 'no answer'\n",
    "\n",
    "    #Recursive\n",
    "    if isinstance(answer, dict): #If the answer is a dictionary (subtree)\n",
    "        residual_tree = answer #Answer is the subtree (residual)\n",
    "        return classify(example, residual_tree) #Run classify function for the subtree\n",
    "    \n",
    "    \n",
    "    #Non-recursive\n",
    "    else:\n",
    "        return answer #Return the answer (classification)\n"
   ]
  },
  {
   "cell_type": "markdown",
   "metadata": {},
   "source": [
    "## Calculating Accuracy"
   ]
  },
  {
   "cell_type": "code",
   "execution_count": 27,
   "metadata": {},
   "outputs": [],
   "source": [
    "def calculate_accuracy(df, tree):\n",
    "\n",
    "    #Creating \"Classification\" column in dataframe\n",
    "    df[\"Classification\"] = df.apply(classify, axis = 1, args = (tree,)) #tree as tuple of 1 column \n",
    "    #That was for applying classify function along every row\n",
    "    \n",
    "    #Creating \"Classification True/False?\" that consists of boolean values\n",
    "    df[\"Correctness\"] = df[\"Classification\"] == df[\"label\"]\n",
    "    #Calculating the accuracy\n",
    "    #Pandas will convert \"True\" to 1 and \"False\" to 0 and calculate the mean\n",
    "    #The higher the mean is, the more \"True\" answers it indicates, the more accurate the decision tree model is\n",
    "    accuracy = df[\"Correctness\"].mean()\n",
    "    \n",
    "    return accuracy"
   ]
  },
  {
   "cell_type": "markdown",
   "metadata": {},
   "source": [
    "## Using our Car Purchase Decision Dataset"
   ]
  },
  {
   "cell_type": "code",
   "execution_count": 28,
   "metadata": {},
   "outputs": [
    {
     "name": "stdout",
     "output_type": "stream",
     "text": [
      "{'Age <= 45.5': [{'AnnualSalary <= 92000.0': [0, 1]}, 1]}\n"
     ]
    }
   ],
   "source": [
    "train_df, test_df = train_test_split(df, 0.2, 0)\n",
    "tree = decision_tree_algorithm(train_df)\n",
    "accuracy = calculate_accuracy(test_df, tree)\n",
    "\n",
    "pprint (tree)"
   ]
  },
  {
   "cell_type": "code",
   "execution_count": 29,
   "metadata": {},
   "outputs": [
    {
     "name": "stdout",
     "output_type": "stream",
     "text": [
      "0.935\n"
     ]
    }
   ],
   "source": [
    "print (accuracy)"
   ]
  },
  {
   "cell_type": "code",
   "execution_count": 30,
   "metadata": {},
   "outputs": [
    {
     "data": {
      "text/html": [
       "<div>\n",
       "<style scoped>\n",
       "    .dataframe tbody tr th:only-of-type {\n",
       "        vertical-align: middle;\n",
       "    }\n",
       "\n",
       "    .dataframe tbody tr th {\n",
       "        vertical-align: top;\n",
       "    }\n",
       "\n",
       "    .dataframe thead th {\n",
       "        text-align: right;\n",
       "    }\n",
       "</style>\n",
       "<table border=\"1\" class=\"dataframe\">\n",
       "  <thead>\n",
       "    <tr style=\"text-align: right;\">\n",
       "      <th></th>\n",
       "      <th>Gender</th>\n",
       "      <th>Age</th>\n",
       "      <th>AnnualSalary</th>\n",
       "      <th>label</th>\n",
       "      <th>Classification</th>\n",
       "      <th>Correctness</th>\n",
       "    </tr>\n",
       "  </thead>\n",
       "  <tbody>\n",
       "    <tr>\n",
       "      <th>864</th>\n",
       "      <td>Male</td>\n",
       "      <td>43</td>\n",
       "      <td>150500</td>\n",
       "      <td>1</td>\n",
       "      <td>1</td>\n",
       "      <td>True</td>\n",
       "    </tr>\n",
       "    <tr>\n",
       "      <th>394</th>\n",
       "      <td>Male</td>\n",
       "      <td>29</td>\n",
       "      <td>60500</td>\n",
       "      <td>0</td>\n",
       "      <td>0</td>\n",
       "      <td>True</td>\n",
       "    </tr>\n",
       "    <tr>\n",
       "      <th>776</th>\n",
       "      <td>Female</td>\n",
       "      <td>36</td>\n",
       "      <td>58500</td>\n",
       "      <td>0</td>\n",
       "      <td>0</td>\n",
       "      <td>True</td>\n",
       "    </tr>\n",
       "    <tr>\n",
       "      <th>911</th>\n",
       "      <td>Female</td>\n",
       "      <td>32</td>\n",
       "      <td>117000</td>\n",
       "      <td>1</td>\n",
       "      <td>1</td>\n",
       "      <td>True</td>\n",
       "    </tr>\n",
       "    <tr>\n",
       "      <th>430</th>\n",
       "      <td>Male</td>\n",
       "      <td>21</td>\n",
       "      <td>88000</td>\n",
       "      <td>0</td>\n",
       "      <td>0</td>\n",
       "      <td>True</td>\n",
       "    </tr>\n",
       "    <tr>\n",
       "      <th>...</th>\n",
       "      <td>...</td>\n",
       "      <td>...</td>\n",
       "      <td>...</td>\n",
       "      <td>...</td>\n",
       "      <td>...</td>\n",
       "      <td>...</td>\n",
       "    </tr>\n",
       "    <tr>\n",
       "      <th>587</th>\n",
       "      <td>Male</td>\n",
       "      <td>18</td>\n",
       "      <td>82000</td>\n",
       "      <td>0</td>\n",
       "      <td>0</td>\n",
       "      <td>True</td>\n",
       "    </tr>\n",
       "    <tr>\n",
       "      <th>649</th>\n",
       "      <td>Male</td>\n",
       "      <td>40</td>\n",
       "      <td>54500</td>\n",
       "      <td>0</td>\n",
       "      <td>0</td>\n",
       "      <td>True</td>\n",
       "    </tr>\n",
       "    <tr>\n",
       "      <th>547</th>\n",
       "      <td>Female</td>\n",
       "      <td>49</td>\n",
       "      <td>135500</td>\n",
       "      <td>1</td>\n",
       "      <td>1</td>\n",
       "      <td>True</td>\n",
       "    </tr>\n",
       "    <tr>\n",
       "      <th>965</th>\n",
       "      <td>Male</td>\n",
       "      <td>52</td>\n",
       "      <td>150000</td>\n",
       "      <td>1</td>\n",
       "      <td>1</td>\n",
       "      <td>True</td>\n",
       "    </tr>\n",
       "    <tr>\n",
       "      <th>696</th>\n",
       "      <td>Female</td>\n",
       "      <td>42</td>\n",
       "      <td>75500</td>\n",
       "      <td>0</td>\n",
       "      <td>0</td>\n",
       "      <td>True</td>\n",
       "    </tr>\n",
       "  </tbody>\n",
       "</table>\n",
       "<p>200 rows × 6 columns</p>\n",
       "</div>"
      ],
      "text/plain": [
       "     Gender  Age  AnnualSalary  label  Classification  Correctness\n",
       "864    Male   43        150500      1               1         True\n",
       "394    Male   29         60500      0               0         True\n",
       "776  Female   36         58500      0               0         True\n",
       "911  Female   32        117000      1               1         True\n",
       "430    Male   21         88000      0               0         True\n",
       "..      ...  ...           ...    ...             ...          ...\n",
       "587    Male   18         82000      0               0         True\n",
       "649    Male   40         54500      0               0         True\n",
       "547  Female   49        135500      1               1         True\n",
       "965    Male   52        150000      1               1         True\n",
       "696  Female   42         75500      0               0         True\n",
       "\n",
       "[200 rows x 6 columns]"
      ]
     },
     "execution_count": 30,
     "metadata": {},
     "output_type": "execute_result"
    }
   ],
   "source": [
    "test_df"
   ]
  }
 ],
 "metadata": {
  "kernelspec": {
   "display_name": "Python 3.9.12 ('base')",
   "language": "python",
   "name": "python3"
  },
  "language_info": {
   "codemirror_mode": {
    "name": "ipython",
    "version": 3
   },
   "file_extension": ".py",
   "mimetype": "text/x-python",
   "name": "python",
   "nbconvert_exporter": "python",
   "pygments_lexer": "ipython3",
   "version": "3.9.12"
  },
  "orig_nbformat": 4,
  "vscode": {
   "interpreter": {
    "hash": "067f0d416be963d998a7db38a618880c0fce36d3977dd8fb5b277693551107a3"
   }
  }
 },
 "nbformat": 4,
 "nbformat_minor": 2
}
